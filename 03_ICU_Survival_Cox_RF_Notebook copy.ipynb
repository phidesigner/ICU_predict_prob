{
 "cells": [
  {
   "cell_type": "markdown",
   "metadata": {},
   "source": [
    "---\n",
    "\n",
    "## Cox Proportional Hazards and Random Survival Forests for estimation of the effect of covariates (features) on survival probabilities In-Hospital Mortality in ICU Patients\n",
    "\n",
    "This notebook extends our survival analysis on the PhysioNet Challenge data, focusing on the advanced modeling of in-hospital mortality risk for patients in Intensive Care Units (ICU). Building upon the foundation of the Kaplan-Meier estimator, we now introduce Cox Proportional Hazards and Random Survival Forests models to examine the impact of various covariates on survival times and to make individual-level predictions.\n",
    "\n",
    "### Approach\n",
    "We will first employ the Cox Proportional Hazards model, allowing us to evaluate the effect of different factos (age, ICU unit, medical conditions, etc.) over the chance of an event (like death) happening. Bearing in mind that **the Cox model assumes the impact of such factors remains constant over time.**\n",
    "\n",
    "Then, we will explore the Random Survival Forests method, which, unlike the Cox model, can handle non-linear relationships between the risk factors and the survival times. This will allow us to capture more complex relationships between the risk factors and the survival times.\n",
    "\n",
    "Steps\n",
    "### Cox Proportional Hazards Model:\n",
    "\n",
    "1. **Model Fitting**: Apply the Cox model to understand the effects of covariates on survival.\n",
    "2. **Assumption Verification**: Check the proportional hazards assumption integral to the model.\n",
    "3. **Coefficient Interpretation**: Interpret the model coefficients to understand hazard ratios.\n",
    "4. **Model Validation**: Validate the model's predictive performance using appropriate metrics.\n",
    "\n",
    "\n",
    "### Random Survival Forests:\n",
    "\n",
    "1. **Model Fitting and Tuning**: Fit the Random Survival Forest model and optimize its hyperparameters.\n",
    "2. **Variable Importance**: Determine the importance of various covariates in predicting survival.\n",
    "3. **Survival Prediction**: Predict survival probabilities for individual patients.\n",
    "4. **Model Evaluation**: Evaluate the model's performance and compare it to the Cox model.\n",
    "\n",
    "#### Again, the objective is to gain a nuanced understanding of factors influencing patient survival in the ICU, enabling more informed medical decision-making and improving care strategies through precise risk stratification and personalized survival predictions\n",
    "\n",
    "---"
   ]
  },
  {
   "cell_type": "markdown",
   "metadata": {},
   "source": [
    "## 0. Data Ingestion\n",
    "We will be using the [PhysioNet Challenge 2012 dataset](https://physionet.org/content/challenge-2012/1.0.0/), which contains data from 4000 ICU patients. The dataset is provided in the form of a CSV file, which we will read into a Pandas DataFrame for further analysis."
   ]
  },
  {
   "cell_type": "code",
   "execution_count": 5,
   "metadata": {},
   "outputs": [],
   "source": [
    "import pandas as pd\n",
    "from lifelines import KaplanMeierFitter\n",
    "import matplotlib.pyplot as plt\n",
    "import seaborn as sns\n",
    "from IPython.display import display, Markdown\n",
    "from lifelines import NelsonAalenFitter\n",
    "from lifelines.statistics import logrank_test\n",
    "from lifelines.plotting import add_at_risk_counts\n",
    "\n",
    "from lifelines import CoxPHFitter\n",
    "from lifelines.utils import concordance_index as cindex\n",
    "from sklearn.model_selection import train_test_split\n",
    "import pickle\n"
   ]
  },
  {
   "cell_type": "code",
   "execution_count": 18,
   "metadata": {},
   "outputs": [],
   "source": [
    "ICU_df = pd.read_csv('PhysionetChallenge2012-set-a.csv.gz', compression='gzip')"
   ]
  },
  {
   "cell_type": "code",
   "execution_count": 19,
   "metadata": {},
   "outputs": [
    {
     "data": {
      "text/plain": [
       "(4000, 120)"
      ]
     },
     "execution_count": 19,
     "metadata": {},
     "output_type": "execute_result"
    }
   ],
   "source": [
    "ICU_df.shape"
   ]
  },
  {
   "cell_type": "markdown",
   "metadata": {},
   "source": [
    "## 1. Model Fitting: Apply the Cox model to understand the effects of features (covariates) on survival\n"
   ]
  },
  {
   "cell_type": "markdown",
   "metadata": {},
   "source": [
    "### 1.1. Data Preprocessing: Preparing the dataset for Cox analysis\n",
    "\n",
    "Identifying relevant features:\n",
    "- General Descriptors: 'Age', 'Gender', 'Height', 'ICUType', 'Weight'\n",
    "- Outcome Related Features: 'SAPS-I', 'SOFA'\n",
    "- Top 10 Variables from Feature Importance RF: 'GCS_last', 'Length_of_stay', 'BUN_last', 'GCS_median', 'GCS_highest', 'BUN_first', 'WBC_last', 'Bilirubin_first', 'PaO2_first'"
   ]
  },
  {
   "cell_type": "code",
   "execution_count": 21,
   "metadata": {},
   "outputs": [],
   "source": [
    "# Selecting the specified covariates\n",
    "selected_covariates = [\n",
    "    'Age', 'Gender', 'Height', 'CCU', 'CSRU', 'SICU', 'Weight',\n",
    "    'SAPS-I', 'SOFA', 'GCS_last', 'Length_of_stay', 'BUN_last', \n",
    "    'GCS_median', 'GCS_highest', 'BUN_first', 'WBC_last', \n",
    "    'Bilirubin_first', 'PaO2_first'\n",
    "]"
   ]
  },
  {
   "cell_type": "code",
   "execution_count": 22,
   "metadata": {},
   "outputs": [
    {
     "data": {
      "text/plain": [
       "Age                   0\n",
       "Gender                3\n",
       "Height             1894\n",
       "CCU                   0\n",
       "CSRU                  0\n",
       "SICU                  0\n",
       "Weight              331\n",
       "SAPS-I                0\n",
       "SOFA                  0\n",
       "GCS_last             64\n",
       "Length_of_stay        0\n",
       "BUN_last             64\n",
       "GCS_median           64\n",
       "GCS_highest          64\n",
       "BUN_first            64\n",
       "WBC_last             92\n",
       "Bilirubin_first    2282\n",
       "PaO2_first          977\n",
       "dtype: int64"
      ]
     },
     "execution_count": 22,
     "metadata": {},
     "output_type": "execute_result"
    }
   ],
   "source": [
    "# Checking for missing values in the selected covariates\n",
    "missing_values = ICU_df[selected_covariates].isnull().sum()\n",
    "\n",
    "missing_values"
   ]
  },
  {
   "cell_type": "code",
   "execution_count": 23,
   "metadata": {},
   "outputs": [
    {
     "data": {
      "text/plain": [
       "(3588, 15)"
      ]
     },
     "execution_count": 23,
     "metadata": {},
     "output_type": "execute_result"
    }
   ],
   "source": [
    "# Updating the list of covariates by removing variables with high missingness\n",
    "selected_covariates = [\n",
    "    'Age', 'Gender', 'Weight', 'CCU', 'CSRU', 'SICU',\n",
    "    'SAPS-I', 'SOFA', 'GCS_last', 'Length_of_stay', 'BUN_last', \n",
    "    'GCS_median', 'GCS_highest', 'BUN_first', 'WBC_last'\n",
    "]\n",
    "\n",
    "# Creating a new DataFrame with the selected covariates\n",
    "filtered_data = ICU_df[selected_covariates]\n",
    "\n",
    "# Dropping rows with any missing values in the remaining covariates\n",
    "filtered_data = filtered_data.dropna()\n",
    "\n",
    "# Checking the shape of the data after handling missing values\n",
    "data_shape_after = filtered_data.shape\n",
    "\n",
    "data_shape_after\n"
   ]
  },
  {
   "cell_type": "markdown",
   "metadata": {},
   "source": [
    "# 3. Kaplan-Meier Estimation\n",
    "Implementing the Kaplan-Meier method to estimate survival probabilities over time for the ICU patients"
   ]
  },
  {
   "cell_type": "markdown",
   "metadata": {},
   "source": [
    "## 4. Survival Curve Plotting: Visualizing the survival curve to interpret how survival probabilities change over time"
   ]
  },
  {
   "cell_type": "markdown",
   "metadata": {},
   "source": []
  },
  {
   "cell_type": "markdown",
   "metadata": {},
   "source": [
    "## 5. Result Interpretation: Discussing the implications of the survival curve in the context of in-hospital mortality in ICU settings\n",
    "Interpreingt the Kaplan-Meier survival plot and understand what it indicates about the patient cohort\n",
    "\n",
    "1. **Early Decline**: What factors might contribute to early mortality in ICU patients e.g. severity of illness, emergency admissions\n",
    "2. **Plateau Phase**: What factors may help explaining the plateau in the survival curve? e.g. patients with better long-term prognosis\n",
    "3. **Long-term Survivors**: What does it indicate when the survival probability becomes flat? e.g. patients who survived for a long duration\n",
    "4. **Censoring**: What's the impact of censored data on the survival estimates, especially towards the end of the study period?\n",
    "5. **Clinical Implications**: **SO WHAT!?** How these survival probabilities can inform clinical practice, patient counseling, and healthcare policy"
   ]
  },
  {
   "cell_type": "markdown",
   "metadata": {},
   "source": []
  },
  {
   "cell_type": "markdown",
   "metadata": {},
   "source": []
  }
 ],
 "metadata": {
  "kernelspec": {
   "display_name": "ICU_predict",
   "language": "python",
   "name": "python3"
  },
  "language_info": {
   "codemirror_mode": {
    "name": "ipython",
    "version": 3
   },
   "file_extension": ".py",
   "mimetype": "text/x-python",
   "name": "python",
   "nbconvert_exporter": "python",
   "pygments_lexer": "ipython3",
   "version": "3.11.6"
  }
 },
 "nbformat": 4,
 "nbformat_minor": 2
}
